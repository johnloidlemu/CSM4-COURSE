{
 "cells": [
  {
   "cell_type": "code",
   "execution_count": 3,
   "id": "595daf76-4b33-4faa-8737-842a1c95c9e6",
   "metadata": {},
   "outputs": [
    {
     "name": "stdout",
     "output_type": "stream",
     "text": [
      "CPU times: total: 0 ns\n",
      "Wall time: 0 ns\n"
     ]
    }
   ],
   "source": [
    "%%time\n",
    "import pandas as pd\n",
    "import numpy as np\n",
    "from sklearn.model_selection import train_test_split, GridSearchCV\n",
    "from sklearn.feature_extraction.text import TfidfVectorizer\n",
    "from sklearn.svm import SVC\n",
    "from sklearn.metrics import classification_report, accuracy_score\n",
    "from sklearn.preprocessing import LabelEncoder\n",
    "from scipy.sparse import hstack"
   ]
  },
  {
   "cell_type": "code",
   "execution_count": 4,
   "id": "eebc5f4e-90e4-4343-b8ee-39d9fa52a6b9",
   "metadata": {},
   "outputs": [],
   "source": [
    "df = pd.read_csv(\"Sentiment_Class.csv\", encoding='utf-8')\n",
    "\n",
    "df = df.dropna(subset=['Clean_data', 'Label'])\n",
    "\n",
    "X = df['Clean_data']\n",
    "y = df['Label']"
   ]
  },
  {
   "cell_type": "code",
   "execution_count": 5,
   "id": "961ad9d5-3225-4a98-a744-483704e8552e",
   "metadata": {},
   "outputs": [],
   "source": [
    "label_encoder = LabelEncoder()\n",
    "y_encoded = label_encoder.fit_transform(y)"
   ]
  },
  {
   "cell_type": "code",
   "execution_count": 6,
   "id": "2f4d4ffc-8dfc-4679-b9c2-5cbeb4b6e98f",
   "metadata": {},
   "outputs": [],
   "source": [
    "vectorizer = TfidfVectorizer(\n",
    "    max_df=0.9,  \n",
    "    min_df=2,   \n",
    "    ngram_range=(1, 3),  \n",
    "    max_features=5000  \n",
    ")"
   ]
  },
  {
   "cell_type": "code",
   "execution_count": 8,
   "id": "c8ace966-9cfe-4651-8075-5463b24e44c0",
   "metadata": {},
   "outputs": [
    {
     "name": "stdout",
     "output_type": "stream",
     "text": [
      "Fitting 15 folds for each of 1 candidates, totalling 15 fits\n",
      "Best Parameters found by Grid Search: {'C': 1, 'gamma': 0.1, 'kernel': 'linear'}\n"
     ]
    }
   ],
   "source": [
    "X_vectorized = vectorizer.fit_transform(X)\n",
    "\n",
    "compound_scores = np.array(df['Compound_Score']).reshape(-1, 1)\n",
    "\n",
    "X_combined = hstack([X_vectorized, compound_scores])\n",
    "\n",
    "X_train_combined, X_test_combined, y_train, y_test = train_test_split(X_combined, y_encoded, test_size=0.2, random_state=42)\n",
    "\n",
    "param_grid = {\n",
    "    'C': [1],\n",
    "    'gamma': [0.1],\n",
    "    'kernel': ['linear']  \n",
    "}\n",
    "\n",
    "grid_search = GridSearchCV(SVC(), param_grid, refit=True, verbose=1, cv=15)\n",
    "\n",
    "grid_search.fit(X_train_combined, y_train)\n",
    "\n",
    "print(\"Best Parameters found by Grid Search:\", grid_search.best_params_)"
   ]
  },
  {
   "cell_type": "code",
   "execution_count": 9,
   "id": "3ed5079d-a6f9-4b95-a1cc-66192262204a",
   "metadata": {},
   "outputs": [],
   "source": [
    "best_model = grid_search.best_estimator_\n",
    "y_pred = best_model.predict(X_test_combined)"
   ]
  },
  {
   "cell_type": "code",
   "execution_count": 10,
   "id": "461b9ac6-a9a9-4a3a-ad7b-2707f3098c39",
   "metadata": {},
   "outputs": [
    {
     "name": "stdout",
     "output_type": "stream",
     "text": [
      "Accuracy (with tuning): 0.85\n",
      "Classification Report:\n",
      "              precision    recall  f1-score   support\n",
      "\n",
      "    Negative       0.85      0.96      0.90       198\n",
      "     Neutral       0.70      0.33      0.45        42\n",
      "    Positive       0.89      0.82      0.85        57\n",
      "\n",
      "    accuracy                           0.85       297\n",
      "   macro avg       0.81      0.71      0.74       297\n",
      "weighted avg       0.83      0.85      0.83       297\n",
      "\n"
     ]
    }
   ],
   "source": [
    "accuracy = accuracy_score(y_test, y_pred)\n",
    "report = classification_report(y_test, y_pred, target_names=label_encoder.classes_)\n",
    "\n",
    "print(f'Accuracy (with tuning): {accuracy:.2f}')\n",
    "print('Classification Report:')\n",
    "print(report)"
   ]
  }
 ],
 "metadata": {
  "kernelspec": {
   "display_name": "Python 3 (ipykernel)",
   "language": "python",
   "name": "python3"
  },
  "language_info": {
   "codemirror_mode": {
    "name": "ipython",
    "version": 3
   },
   "file_extension": ".py",
   "mimetype": "text/x-python",
   "name": "python",
   "nbconvert_exporter": "python",
   "pygments_lexer": "ipython3",
   "version": "3.11.5"
  }
 },
 "nbformat": 4,
 "nbformat_minor": 5
}
